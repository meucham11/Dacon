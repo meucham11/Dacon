{
  "nbformat": 4,
  "nbformat_minor": 0,
  "metadata": {
    "colab": {
      "name": "dacon_forecast.ipynb",
      "provenance": [],
      "collapsed_sections": [],
      "authorship_tag": "ABX9TyMKHxxcLNd5B5YDApM8VwBS",
      "include_colab_link": true
    },
    "kernelspec": {
      "name": "python3",
      "display_name": "Python 3"
    }
  },
  "cells": [
    {
      "cell_type": "markdown",
      "metadata": {
        "id": "view-in-github",
        "colab_type": "text"
      },
      "source": [
        "<a href=\"https://colab.research.google.com/github/meucham11/Dacon/blob/master/dacon_temp_forecast.ipynb\" target=\"_parent\"><img src=\"https://colab.research.google.com/assets/colab-badge.svg\" alt=\"Open In Colab\"/></a>"
      ]
    },
    {
      "cell_type": "markdown",
      "metadata": {
        "id": "zkVcVqQAoCxN",
        "colab_type": "text"
      },
      "source": [
        "데이터 설명\n",
        "\n",
        "-     대전지역에서 측정한 실내외 19곳의 센서데이터와, 주변 지역의 기상청 공공데이터를 semi-비식별화하여 제공합니다.\n",
        "\n",
        "-     센서는 온도를 측정하였습니다.\n",
        "\n",
        "-     모든 데이터는 시간 순으로 정렬 되어 있으며 10분 단위 데이터 입니다.\n",
        "\n",
        "-     예측 대상(target variable)은 Y18입니다.\n",
        "\n",
        "\n",
        "\n",
        "train.csv \n",
        "\n",
        "-     30일 간의 기상청 데이터 (X00~X39) 및 센서데이터 (Y00~Y17)\n",
        "\n",
        "-     이후 3일 간의 기상청 데이터 (X00~X39) 및 센서데이터 (Y18)\n",
        "\n",
        "\n",
        "\n",
        "test.csv \n",
        "\n",
        "-     train.csv 기간 이후 80일 간의 기상청 데이터 (X00~X39)\n",
        "\n",
        "\n",
        "\n",
        "sample_submission.csv\n",
        "\n",
        "-     제출 양식 예시"
      ]
    },
    {
      "cell_type": "code",
      "metadata": {
        "id": "TlEWwVvfmqye",
        "colab_type": "code",
        "colab": {
          "base_uri": "https://localhost:8080/",
          "height": 34
        },
        "outputId": "faba5b28-09c9-4ecf-f54a-9a9a9ea3b904"
      },
      "source": [
        "from google.colab import auth\n",
        "auth.authenticate_user()\n",
        "\n",
        "from google.colab import drive\n",
        "drive.mount('/content/drive', force_remount=False)"
      ],
      "execution_count": null,
      "outputs": [
        {
          "output_type": "stream",
          "text": [
            "Drive already mounted at /content/drive; to attempt to forcibly remount, call drive.mount(\"/content/drive\", force_remount=True).\n"
          ],
          "name": "stdout"
        }
      ]
    },
    {
      "cell_type": "code",
      "metadata": {
        "id": "kW_udJO0mvrb",
        "colab_type": "code",
        "colab": {
          "base_uri": "https://localhost:8080/",
          "height": 34
        },
        "outputId": "73710b6a-1a8b-4439-d3a4-ca6bda5414cb"
      },
      "source": [
        "import os\n",
        "from pathlib import Path\n",
        "\n",
        "# folder 변수에 구글드라이브에 프로젝트를 저장한 디렉토리를 입력하세요!\n",
        "# My Drive 밑에 저장했다면 그대로 두시면 됩니다.\n",
        "folder = \"AIFrenz_Season1_dataset\"\n",
        "project_dir = \"\"\n",
        "\n",
        "base_path = Path(\"/content/drive/My Drive/\")\n",
        "project_path = base_path / folder / project_dir\n",
        "os.chdir(project_path)\n",
        "for x in list(project_path.glob(\"*\")):\n",
        "    if x.is_dir():\n",
        "        dir_name = str(x.relative_to(project_path))\n",
        "        os.rename(dir_name, dir_name.split(\" \", 1)[0])\n",
        "print(f\"현재 디렉토리 위치: {os.getcwd()}\")"
      ],
      "execution_count": null,
      "outputs": [
        {
          "output_type": "stream",
          "text": [
            "현재 디렉토리 위치: /content/drive/My Drive/AIFrenz_Season1_dataset\n"
          ],
          "name": "stdout"
        }
      ]
    },
    {
      "cell_type": "code",
      "metadata": {
        "id": "6y9sCGiUmwB_",
        "colab_type": "code",
        "colab": {}
      },
      "source": [
        "#!pip install tensorflow-gpu==2.0.0"
      ],
      "execution_count": null,
      "outputs": []
    },
    {
      "cell_type": "code",
      "metadata": {
        "id": "sxbI0ZHqmv6x",
        "colab_type": "code",
        "colab": {
          "base_uri": "https://localhost:8080/",
          "height": 51
        },
        "outputId": "51221304-0d04-4c06-bbcd-638cb990f614"
      },
      "source": [
        "from __future__ import absolute_import\n",
        "from __future__ import division\n",
        "from __future__ import print_function\n",
        "from __future__ import unicode_literals\n",
        "\n",
        "\n",
        "from IPython.display import clear_output\n",
        "\n",
        "import os\n",
        "import time\n",
        "import glob\n",
        "import csv\n",
        "import numpy as np\n",
        "import matplotlib.pyplot as plt\n",
        "%matplotlib inline\n",
        "import pandas as pd\n",
        "from sklearn.preprocessing import MinMaxScaler\n",
        "\n",
        "import tensorflow as tf\n",
        "from tensorflow.keras import layers\n",
        "from sklearn.model_selection import train_test_split\n",
        "\n",
        "print('tensorflow version: {}'.format(tf.__version__))\n",
        "print('GPU 사용 가능 여부: {}'.format(tf.test.is_gpu_available()))"
      ],
      "execution_count": null,
      "outputs": [
        {
          "output_type": "stream",
          "text": [
            "tensorflow version: 2.0.0\n",
            "GPU 사용 가능 여부: False\n"
          ],
          "name": "stdout"
        }
      ]
    },
    {
      "cell_type": "code",
      "metadata": {
        "id": "vTj39YdJmwHl",
        "colab_type": "code",
        "colab": {}
      },
      "source": [
        "raw_train_data = pd.read_csv('./train.csv')\n",
        "raw_test_data = pd.read_csv('./test.csv')\n",
        "submission_data = pd.read_csv('./sample_submission.csv')"
      ],
      "execution_count": null,
      "outputs": []
    },
    {
      "cell_type": "code",
      "metadata": {
        "id": "6vHVJ0wumwKV",
        "colab_type": "code",
        "colab": {}
      },
      "source": [
        "raw_train_data=raw_train_data.iloc[0:4320]\n",
        "train_label = raw_train_data['Y05']\n",
        "raw_train_data=raw_train_data.drop(raw_train_data.columns[range(41,len(raw_train_data.columns))],axis='columns')\n",
        "del raw_train_data['id']\n",
        "\n",
        "train_data, val_data,train_label, val_label=train_test_split(raw_train_data, train_label, test_size=0.2)"
      ],
      "execution_count": null,
      "outputs": []
    },
    {
      "cell_type": "code",
      "metadata": {
        "id": "k1GZd1Er4boB",
        "colab_type": "code",
        "colab": {}
      },
      "source": [
        ""
      ],
      "execution_count": null,
      "outputs": []
    },
    {
      "cell_type": "code",
      "metadata": {
        "id": "W1Ta035oSAWr",
        "colab_type": "code",
        "colab": {}
      },
      "source": [
        "train_data=train_data.sort_index().reset_index(drop=True)\n",
        "train_label=train_label.sort_index().reset_index(drop=True)\n",
        "val_data=val_data.sort_index().reset_index(drop=True)\n",
        "val_label=val_label.sort_index().reset_index(drop=True)"
      ],
      "execution_count": null,
      "outputs": []
    },
    {
      "cell_type": "code",
      "metadata": {
        "id": "tRK07bCBGXS_",
        "colab_type": "code",
        "colab": {}
      },
      "source": [
        "train_data=train_data.to_numpy()\n",
        "train_label=train_label.to_numpy()\n",
        "val_data=val_data.to_numpy()\n",
        "val_label=val_label.to_numpy()\n",
        "del raw_test_data['id']\n",
        "test_data=raw_test_data.to_numpy()"
      ],
      "execution_count": null,
      "outputs": []
    },
    {
      "cell_type": "code",
      "metadata": {
        "id": "8cYzWqWxMx_G",
        "colab_type": "code",
        "colab": {}
      },
      "source": [
        "train_data = train_data.astype(np.float32)\n",
        "train_label = train_label.astype(np.float32)\n",
        "val_data = val_data.astype(np.float32)\n",
        "val_label = val_label.astype(np.float32)\n",
        "\n",
        "test_data = test_data.astype(np.float32)"
      ],
      "execution_count": null,
      "outputs": []
    },
    {
      "cell_type": "markdown",
      "metadata": {
        "id": "Qns1omqPyUvX",
        "colab_type": "text"
      },
      "source": [
        "# dataset"
      ]
    },
    {
      "cell_type": "code",
      "metadata": {
        "id": "yfN9G-XlMyHN",
        "colab_type": "code",
        "colab": {}
      },
      "source": [
        "def make_dataset(data,tar, seq_length=432, target_delay=1, strides=4):\n",
        "    min_max_scaler = MinMaxScaler()\n",
        "    data = min_max_scaler.fit_transform(data)\n",
        "\n",
        "    min_max_scaler = MinMaxScaler()\n",
        "    \n",
        "    tar = min_max_scaler.fit_transform(tar.reshape(-1,1))\n",
        "    \n",
        "    \n",
        "\n",
        "    sequence = []\n",
        "    target = []\n",
        "    for index in range(len(data) - seq_length - target_delay):\n",
        "        if index % strides == 0:  \n",
        "            sequence.append(data[index:index+seq_length])    # 위의 설명 2-1 을 참고하여 None을 채우세요.\n",
        "            target.append(tar[index+seq_length+target_delay])\n",
        "    \n",
        "    return np.array(sequence), np.array(target), min_max_scaler\n"
      ],
      "execution_count": null,
      "outputs": []
    },
    {
      "cell_type": "code",
      "metadata": {
        "id": "s_9--yAGKoXN",
        "colab_type": "code",
        "colab": {}
      },
      "source": [
        "train_sequences, train_labels, train_scaler= make_dataset(data=train_data,tar=train_label)\n",
        "val_sequences,val_labels,  var_scaler = make_dataset(val_data,val_label)"
      ],
      "execution_count": null,
      "outputs": []
    },
    {
      "cell_type": "markdown",
      "metadata": {
        "id": "vZhE_c_JWwcA",
        "colab_type": "text"
      },
      "source": [
        ""
      ]
    },
    {
      "cell_type": "markdown",
      "metadata": {
        "id": "VOsWEDpjybLR",
        "colab_type": "text"
      },
      "source": [
        "# hyperparameter"
      ]
    },
    {
      "cell_type": "code",
      "metadata": {
        "id": "P2dSJIxUyasj",
        "colab_type": "code",
        "colab": {}
      },
      "source": [
        "batch_size = 128\n",
        "max_epochs = 20\n",
        "learning_rate = 3e-5\n",
        "hidden_sizes = [100,100] # hidden_sizes must be a list"
      ],
      "execution_count": null,
      "outputs": []
    },
    {
      "cell_type": "code",
      "metadata": {
        "id": "F8wFEl9YmwSo",
        "colab_type": "code",
        "colab": {}
      },
      "source": [
        "N = BUFFER_SIZE = len(train_sequences)\n",
        "train_dataset = tf.data.Dataset.from_tensor_slices((train_sequences, train_labels))\n",
        "train_dataset = train_dataset.shuffle(BUFFER_SIZE)\n",
        "train_dataset = train_dataset.batch(batch_size)\n",
        "train_dataset = train_dataset.repeat()"
      ],
      "execution_count": null,
      "outputs": []
    },
    {
      "cell_type": "code",
      "metadata": {
        "id": "K7zhWpZkVve2",
        "colab_type": "code",
        "colab": {}
      },
      "source": [
        "val_dataset = tf.data.Dataset.from_tensor_slices((val_sequences, val_labels))\n",
        "val_dataset = val_dataset.batch(batch_size)\n",
        "val_dataset = val_dataset.repeat()"
      ],
      "execution_count": null,
      "outputs": []
    },
    {
      "cell_type": "code",
      "metadata": {
        "id": "89tuNK6imwRO",
        "colab_type": "code",
        "colab": {}
      },
      "source": [
        "model = tf.keras.Sequential()"
      ],
      "execution_count": null,
      "outputs": []
    },
    {
      "cell_type": "code",
      "metadata": {
        "id": "eqqM9UGrmwOy",
        "colab_type": "code",
        "colab": {}
      },
      "source": [
        "num_layers = len(hidden_sizes)\n",
        "for i in range(num_layers - 1):\n",
        "    \n",
        "    ## 코드 시작 ##\n",
        "    model.add(tf.keras.layers.LSTM(100,input_shape=(None,40),return_sequences=True))\n",
        "    model.add(tf.keras.layers.LSTM(100,return_sequences = False))\n",
        "    model.add(tf.keras.layers.Dense(1))\n",
        "    ## 코드 종료 ##\n"
      ],
      "execution_count": null,
      "outputs": []
    },
    {
      "cell_type": "code",
      "metadata": {
        "id": "pj0FWmptmv_o",
        "colab_type": "code",
        "colab": {}
      },
      "source": [
        "for step, (sequences, targets) in enumerate(train_dataset.take(1)):\n",
        "    predictions = model(sequences)"
      ],
      "execution_count": null,
      "outputs": []
    },
    {
      "cell_type": "code",
      "metadata": {
        "id": "Vh9B_i2hmv9d",
        "colab_type": "code",
        "colab": {
          "base_uri": "https://localhost:8080/",
          "height": 255
        },
        "outputId": "9908e367-f9e4-4cd6-cdbe-6460af7b2bcc"
      },
      "source": [
        "model.summary()"
      ],
      "execution_count": null,
      "outputs": [
        {
          "output_type": "stream",
          "text": [
            "Model: \"sequential_7\"\n",
            "_________________________________________________________________\n",
            "Layer (type)                 Output Shape              Param #   \n",
            "=================================================================\n",
            "lstm_14 (LSTM)               (None, None, 100)         56400     \n",
            "_________________________________________________________________\n",
            "lstm_15 (LSTM)               (None, 100)               80400     \n",
            "_________________________________________________________________\n",
            "dense_7 (Dense)              (None, 1)                 101       \n",
            "=================================================================\n",
            "Total params: 136,901\n",
            "Trainable params: 136,901\n",
            "Non-trainable params: 0\n",
            "_________________________________________________________________\n"
          ],
          "name": "stdout"
        }
      ]
    },
    {
      "cell_type": "code",
      "metadata": {
        "id": "tWOYTvo-yOl-",
        "colab_type": "code",
        "colab": {}
      },
      "source": [
        "## 코드 시작 ##\n",
        "model.compile(loss=tf.keras.losses.MeanSquaredError(), \n",
        "              optimizer=tf.optimizers.Adam(learning_rate=learning_rate), \n",
        "              metrics=['mse'])\n",
        "## 코드 종료 ##"
      ],
      "execution_count": null,
      "outputs": []
    },
    {
      "cell_type": "code",
      "metadata": {
        "id": "c3TVrqwgyOqd",
        "colab_type": "code",
        "colab": {
          "base_uri": "https://localhost:8080/",
          "height": 34
        },
        "outputId": "e8a80b6b-976b-4fca-c39c-b01a9e89af98"
      },
      "source": [
        "train_dataset"
      ],
      "execution_count": null,
      "outputs": [
        {
          "output_type": "execute_result",
          "data": {
            "text/plain": [
              "<RepeatDataset shapes: ((None, 432, 40), (None, 1)), types: (tf.float32, tf.float32)>"
            ]
          },
          "metadata": {
            "tags": []
          },
          "execution_count": 315
        }
      ]
    },
    {
      "cell_type": "code",
      "metadata": {
        "id": "eKWVaMreyOtM",
        "colab_type": "code",
        "colab": {
          "base_uri": "https://localhost:8080/",
          "height": 732
        },
        "outputId": "88d8704d-9ceb-4228-c245-9ab9a496d5d1"
      },
      "source": [
        "model.fit(train_dataset, steps_per_epoch = (len(train_data)/batch_size), \n",
        "          validation_data = val_dataset, \n",
        "          validation_steps= len(val_data)/batch_size,\n",
        "          epochs= max_epochs,\n",
        ")"
      ],
      "execution_count": null,
      "outputs": [
        {
          "output_type": "stream",
          "text": [
            "Train for 27.0 steps, validate for 6.75 steps\n",
            "Epoch 1/20\n",
            "27/27 [==============================] - 76s 3s/step - loss: 0.1125 - mse: 0.1125 - val_loss: 0.0349 - val_mse: 0.0336\n",
            "Epoch 2/20\n",
            "27/27 [==============================] - 72s 3s/step - loss: 0.0454 - mse: 0.0454 - val_loss: 0.0345 - val_mse: 0.0333\n",
            "Epoch 3/20\n",
            "27/27 [==============================] - 73s 3s/step - loss: 0.0302 - mse: 0.0303 - val_loss: 0.0367 - val_mse: 0.0353\n",
            "Epoch 4/20\n",
            "27/27 [==============================] - 74s 3s/step - loss: 0.0236 - mse: 0.0236 - val_loss: 0.0381 - val_mse: 0.0368\n",
            "Epoch 5/20\n",
            "27/27 [==============================] - 75s 3s/step - loss: 0.0183 - mse: 0.0183 - val_loss: 0.0391 - val_mse: 0.0377\n",
            "Epoch 6/20\n",
            "27/27 [==============================] - 74s 3s/step - loss: 0.0144 - mse: 0.0144 - val_loss: 0.0400 - val_mse: 0.0386\n",
            "Epoch 7/20\n",
            "27/27 [==============================] - 73s 3s/step - loss: 0.0114 - mse: 0.0114 - val_loss: 0.0413 - val_mse: 0.0398\n",
            "Epoch 8/20\n",
            "27/27 [==============================] - 72s 3s/step - loss: 0.0095 - mse: 0.0095 - val_loss: 0.0431 - val_mse: 0.0416\n",
            "Epoch 9/20\n",
            "27/27 [==============================] - 73s 3s/step - loss: 0.0081 - mse: 0.0081 - val_loss: 0.0449 - val_mse: 0.0433\n",
            "Epoch 10/20\n",
            "27/27 [==============================] - 73s 3s/step - loss: 0.0079 - mse: 0.0079 - val_loss: 0.0460 - val_mse: 0.0444\n",
            "Epoch 11/20\n",
            "27/27 [==============================] - 76s 3s/step - loss: 0.0075 - mse: 0.0074 - val_loss: 0.0465 - val_mse: 0.0448\n",
            "Epoch 12/20\n",
            "27/27 [==============================] - 72s 3s/step - loss: 0.0070 - mse: 0.0070 - val_loss: 0.0469 - val_mse: 0.0452\n",
            "Epoch 13/20\n",
            "27/27 [==============================] - 72s 3s/step - loss: 0.0067 - mse: 0.0067 - val_loss: 0.0471 - val_mse: 0.0454\n",
            "Epoch 14/20\n",
            "27/27 [==============================] - 73s 3s/step - loss: 0.0067 - mse: 0.0067 - val_loss: 0.0472 - val_mse: 0.0455\n",
            "Epoch 15/20\n",
            "27/27 [==============================] - 72s 3s/step - loss: 0.0065 - mse: 0.0065 - val_loss: 0.0475 - val_mse: 0.0458\n",
            "Epoch 16/20\n",
            "27/27 [==============================] - 74s 3s/step - loss: 0.0062 - mse: 0.0062 - val_loss: 0.0475 - val_mse: 0.0458\n",
            "Epoch 17/20\n",
            "27/27 [==============================] - 73s 3s/step - loss: 0.0062 - mse: 0.0062 - val_loss: 0.0477 - val_mse: 0.0460\n",
            "Epoch 18/20\n",
            "27/27 [==============================] - 71s 3s/step - loss: 0.0059 - mse: 0.0059 - val_loss: 0.0478 - val_mse: 0.0461\n",
            "Epoch 19/20\n",
            "27/27 [==============================] - 73s 3s/step - loss: 0.0058 - mse: 0.0058 - val_loss: 0.0477 - val_mse: 0.0460\n",
            "Epoch 20/20\n",
            "27/27 [==============================] - 72s 3s/step - loss: 0.0058 - mse: 0.0058 - val_loss: 0.0475 - val_mse: 0.0459\n"
          ],
          "name": "stdout"
        },
        {
          "output_type": "execute_result",
          "data": {
            "text/plain": [
              "<tensorflow.python.keras.callbacks.History at 0x7f8ec0c253c8>"
            ]
          },
          "metadata": {
            "tags": []
          },
          "execution_count": 316
        }
      ]
    },
    {
      "cell_type": "code",
      "metadata": {
        "id": "gH-fO1zqyPX8",
        "colab_type": "code",
        "colab": {
          "base_uri": "https://localhost:8080/",
          "height": 130
        },
        "outputId": "0a9e1875-78d9-4e71-d592-38a4ef1159ab"
      },
      "source": [
        "----------------------------------------------------------------------"
      ],
      "execution_count": null,
      "outputs": [
        {
          "output_type": "error",
          "ename": "SyntaxError",
          "evalue": "ignored",
          "traceback": [
            "\u001b[0;36m  File \u001b[0;32m\"<ipython-input-317-8e2f3f65b0ee>\"\u001b[0;36m, line \u001b[0;32m1\u001b[0m\n\u001b[0;31m    ----------------------------------------------------------------------\u001b[0m\n\u001b[0m                                                                          ^\u001b[0m\n\u001b[0;31mSyntaxError\u001b[0m\u001b[0;31m:\u001b[0m invalid syntax\n"
          ]
        }
      ]
    },
    {
      "cell_type": "code",
      "metadata": {
        "id": "2HlnsR7WyO0h",
        "colab_type": "code",
        "colab": {}
      },
      "source": [
        "scaler = MinMaxScaler(feature_range = (0,1))\n",
        "sc_test_data = scaler.fit_transform(test_data)"
      ],
      "execution_count": null,
      "outputs": []
    },
    {
      "cell_type": "code",
      "metadata": {
        "id": "K3RB6299yOvq",
        "colab_type": "code",
        "colab": {
          "base_uri": "https://localhost:8080/",
          "height": 164
        },
        "outputId": "abc01ba8-9651-4aec-98fc-6acc87512a7d"
      },
      "source": [
        "sc_test_data\n"
      ],
      "execution_count": null,
      "outputs": [
        {
          "output_type": "error",
          "ename": "NameError",
          "evalue": "ignored",
          "traceback": [
            "\u001b[0;31m---------------------------------------------------------------------------\u001b[0m",
            "\u001b[0;31mNameError\u001b[0m                                 Traceback (most recent call last)",
            "\u001b[0;32m<ipython-input-1-175bcdf485f8>\u001b[0m in \u001b[0;36m<module>\u001b[0;34m()\u001b[0m\n\u001b[0;32m----> 1\u001b[0;31m \u001b[0msc_test_data\u001b[0m\u001b[0;34m\u001b[0m\u001b[0;34m\u001b[0m\u001b[0m\n\u001b[0m",
            "\u001b[0;31mNameError\u001b[0m: name 'sc_test_data' is not defined"
          ]
        }
      ]
    },
    {
      "cell_type": "code",
      "metadata": {
        "id": "44_xeQXfdFZc",
        "colab_type": "code",
        "colab": {
          "base_uri": "https://localhost:8080/",
          "height": 341
        },
        "outputId": "a5a5ec8b-2ef6-4937-aa42-93e79116ad1c"
      },
      "source": [
        "sc_test_data.reshape(-1,1,40)"
      ],
      "execution_count": null,
      "outputs": [
        {
          "output_type": "execute_result",
          "data": {
            "text/plain": [
              "array([[[0.15384614, 0.6151085 , 0.13636364, ..., 0.81529576,\n",
              "         0.5075239 , 0.        ]],\n",
              "\n",
              "       [[0.1586538 , 0.6151085 , 0.1       , ..., 0.81529576,\n",
              "         0.5157318 , 0.        ]],\n",
              "\n",
              "       [[0.16826922, 0.6151085 , 0.11818182, ..., 0.8297258 ,\n",
              "         0.51983577, 0.        ]],\n",
              "\n",
              "       ...,\n",
              "\n",
              "       [[0.48557693, 0.8237419 , 0.34545454, ..., 0.7460317 ,\n",
              "         0.62243503, 0.00628931]],\n",
              "\n",
              "       [[0.48076922, 0.8237419 , 0.21818183, ..., 0.7590187 ,\n",
              "         0.62927496, 0.00628931]],\n",
              "\n",
              "       [[0.4759615 , 0.8237419 , 0.27272728, ..., 0.7604616 ,\n",
              "         0.63064295, 0.00628931]]], dtype=float32)"
            ]
          },
          "metadata": {
            "tags": []
          },
          "execution_count": 355
        }
      ]
    },
    {
      "cell_type": "code",
      "metadata": {
        "id": "ozVsWwSvyOom",
        "colab_type": "code",
        "colab": {}
      },
      "source": [
        "pred=model.predict(sc_test_data.reshape(-1,1,40),batch_size=batch_size)\n"
      ],
      "execution_count": null,
      "outputs": []
    },
    {
      "cell_type": "code",
      "metadata": {
        "id": "lTyDqPyCtimG",
        "colab_type": "code",
        "colab": {
          "base_uri": "https://localhost:8080/",
          "height": 282
        },
        "outputId": "22b9db8f-962a-4b35-fe6c-d891f8aeb5dd"
      },
      "source": [
        "plt.plot(pred)\n"
      ],
      "execution_count": null,
      "outputs": [
        {
          "output_type": "execute_result",
          "data": {
            "text/plain": [
              "[<matplotlib.lines.Line2D at 0x7f8eb66822e8>]"
            ]
          },
          "metadata": {
            "tags": []
          },
          "execution_count": 359
        },
        {
          "output_type": "display_data",
          "data": {
            "image/png": "[encoded data removed]",
            "text/plain": [
              "<Figure size 432x288 with 1 Axes>"
            ]
          },
          "metadata": {
            "tags": [],
            "needs_background": "light"
          }
        }
      ]
    },
    {
      "cell_type": "code",
      "metadata": {
        "id": "eEj8luk-tsvX",
        "colab_type": "code",
        "colab": {
          "base_uri": "https://localhost:8080/",
          "height": 282
        },
        "outputId": "601109e8-d19a-424b-f36f-a39e502a181d"
      },
      "source": [
        "plt.plot(train_labels)"
      ],
      "execution_count": null,
      "outputs": [
        {
          "output_type": "execute_result",
          "data": {
            "text/plain": [
              "[<matplotlib.lines.Line2D at 0x7f8eb66609b0>]"
            ]
          },
          "metadata": {
            "tags": []
          },
          "execution_count": 360
        },
        {
          "output_type": "display_data",
          "data": {
            "image/png": "[encoded data removed]",
            "text/plain": [
              "<Figure size 432x288 with 1 Axes>"
            ]
          },
          "metadata": {
            "tags": [],
            "needs_background": "light"
          }
        }
      ]
    },
    {
      "cell_type": "code",
      "metadata": {
        "id": "KeSlCSExibOu",
        "colab_type": "code",
        "colab": {
          "base_uri": "https://localhost:8080/",
          "height": 1000
        },
        "outputId": "b66b0252-81dc-4011-a3e4-d45abd005516"
      },
      "source": [
        "train_scaler.inverse_transform(pred.reshape(-1,1))"
      ],
      "execution_count": null,
      "outputs": [
        {
          "output_type": "execute_result",
          "data": {
            "text/plain": [
              "array([[49.5     ],\n",
              "       [34.5     ],\n",
              "       [31.5     ],\n",
              "       [29.5     ],\n",
              "       [27.      ],\n",
              "       [26.      ],\n",
              "       [25.      ],\n",
              "       [24.      ],\n",
              "       [22.499998],\n",
              "       [21.499998],\n",
              "       [20.999998],\n",
              "       [20.499998],\n",
              "       [20.499998],\n",
              "       [19.499998],\n",
              "       [17.      ],\n",
              "       [16.5     ],\n",
              "       [16.      ],\n",
              "       [17.5     ],\n",
              "       [21.499998],\n",
              "       [25.5     ],\n",
              "       [29.5     ],\n",
              "       [30.5     ],\n",
              "       [33.      ],\n",
              "       [34.5     ],\n",
              "       [35.      ],\n",
              "       [35.5     ],\n",
              "       [42.      ],\n",
              "       [39.5     ],\n",
              "       [36.5     ],\n",
              "       [39.      ],\n",
              "       [30.      ],\n",
              "       [28.5     ],\n",
              "       [25.5     ],\n",
              "       [23.5     ],\n",
              "       [21.999998],\n",
              "       [20.999998],\n",
              "       [20.499998],\n",
              "       [19.999998],\n",
              "       [19.499998],\n",
              "       [18.5     ],\n",
              "       [17.5     ],\n",
              "       [16.5     ],\n",
              "       [17.      ],\n",
              "       [16.5     ],\n",
              "       [16.      ],\n",
              "       [16.      ],\n",
              "       [18.      ],\n",
              "       [22.499998],\n",
              "       [27.5     ],\n",
              "       [29.5     ],\n",
              "       [31.5     ],\n",
              "       [33.      ],\n",
              "       [35.      ],\n",
              "       [35.5     ],\n",
              "       [36.      ],\n",
              "       [42.      ],\n",
              "       [45.      ],\n",
              "       [45.5     ],\n",
              "       [33.      ],\n",
              "       [30.      ],\n",
              "       [28.      ],\n",
              "       [26.5     ],\n",
              "       [25.5     ],\n",
              "       [25.      ],\n",
              "       [24.5     ],\n",
              "       [24.      ],\n",
              "       [24.      ],\n",
              "       [22.499998],\n",
              "       [21.499998],\n",
              "       [20.499998],\n",
              "       [19.999998],\n",
              "       [18.5     ],\n",
              "       [17.      ],\n",
              "       [17.5     ],\n",
              "       [17.5     ],\n",
              "       [17.5     ],\n",
              "       [18.      ],\n",
              "       [18.999998],\n",
              "       [19.499998],\n",
              "       [19.999998],\n",
              "       [20.999998],\n",
              "       [20.999998],\n",
              "       [21.999998],\n",
              "       [20.499998],\n",
              "       [20.999998],\n",
              "       [18.5     ],\n",
              "       [18.5     ],\n",
              "       [17.5     ],\n",
              "       [18.      ],\n",
              "       [18.      ],\n",
              "       [17.5     ],\n",
              "       [17.      ],\n",
              "       [16.5     ],\n",
              "       [15.      ],\n",
              "       [14.5     ],\n",
              "       [14.5     ],\n",
              "       [13.      ],\n",
              "       [12.      ],\n",
              "       [11.5     ],\n",
              "       [10.5     ],\n",
              "       [10.5     ],\n",
              "       [11.5     ],\n",
              "       [13.5     ],\n",
              "       [16.      ],\n",
              "       [18.5     ],\n",
              "       [23.      ],\n",
              "       [24.5     ],\n",
              "       [26.      ],\n",
              "       [27.      ],\n",
              "       [29.5     ],\n",
              "       [30.5     ],\n",
              "       [30.      ],\n",
              "       [41.      ],\n",
              "       [33.      ],\n",
              "       [42.      ],\n",
              "       [26.      ],\n",
              "       [23.5     ],\n",
              "       [21.999998],\n",
              "       [19.999998],\n",
              "       [16.5     ],\n",
              "       [14.      ],\n",
              "       [13.5     ],\n",
              "       [12.5     ],\n",
              "       [12.      ],\n",
              "       [11.5     ],\n",
              "       [11.      ],\n",
              "       [10.5     ],\n",
              "       [10.      ],\n",
              "       [10.      ],\n",
              "       [ 9.5     ],\n",
              "       [10.      ],\n",
              "       [14.      ],\n",
              "       [20.499998],\n",
              "       [22.499998],\n",
              "       [26.      ],\n",
              "       [27.5     ],\n",
              "       [28.      ],\n",
              "       [29.      ],\n",
              "       [29.5     ],\n",
              "       [30.      ],\n",
              "       [31.5     ],\n",
              "       [38.5     ],\n",
              "       [42.      ],\n",
              "       [43.5     ],\n",
              "       [48.      ],\n",
              "       [30.      ],\n",
              "       [27.      ],\n",
              "       [25.5     ],\n",
              "       [23.5     ],\n",
              "       [20.999998],\n",
              "       [18.      ],\n",
              "       [16.5     ],\n",
              "       [15.5     ],\n",
              "       [14.      ],\n",
              "       [13.      ],\n",
              "       [12.5     ],\n",
              "       [12.      ],\n",
              "       [12.      ],\n",
              "       [11.5     ],\n",
              "       [11.5     ],\n",
              "       [11.5     ],\n",
              "       [12.      ],\n",
              "       [13.      ],\n",
              "       [16.5     ],\n",
              "       [19.499998],\n",
              "       [23.      ],\n",
              "       [26.      ],\n",
              "       [28.      ],\n",
              "       [31.5     ],\n",
              "       [33.5     ],\n",
              "       [33.      ],\n",
              "       [31.5     ],\n",
              "       [35.      ],\n",
              "       [33.      ],\n",
              "       [31.5     ],\n",
              "       [30.      ],\n",
              "       [27.      ],\n",
              "       [25.      ],\n",
              "       [23.      ],\n",
              "       [21.999998],\n",
              "       [20.999998],\n",
              "       [20.499998],\n",
              "       [19.499998],\n",
              "       [18.      ],\n",
              "       [16.5     ],\n",
              "       [15.5     ],\n",
              "       [15.      ],\n",
              "       [15.      ],\n",
              "       [15.      ],\n",
              "       [15.      ],\n",
              "       [15.      ],\n",
              "       [15.      ],\n",
              "       [15.5     ],\n",
              "       [16.5     ],\n",
              "       [19.499998],\n",
              "       [23.5     ],\n",
              "       [25.5     ],\n",
              "       [27.      ],\n",
              "       [28.5     ],\n",
              "       [28.      ],\n",
              "       [30.5     ],\n",
              "       [35.5     ],\n",
              "       [33.      ],\n",
              "       [38.5     ],\n",
              "       [41.      ],\n",
              "       [27.      ],\n",
              "       [23.5     ],\n",
              "       [21.999998],\n",
              "       [20.499998],\n",
              "       [18.      ],\n",
              "       [17.      ],\n",
              "       [16.      ],\n",
              "       [15.      ],\n",
              "       [13.5     ],\n",
              "       [13.      ],\n",
              "       [12.5     ],\n",
              "       [12.      ],\n",
              "       [11.5     ],\n",
              "       [11.      ],\n",
              "       [12.      ],\n",
              "       [14.5     ],\n",
              "       [18.      ],\n",
              "       [21.999998],\n",
              "       [24.5     ],\n",
              "       [27.      ],\n",
              "       [28.5     ],\n",
              "       [29.      ],\n",
              "       [30.5     ],\n",
              "       [30.5     ],\n",
              "       [31.5     ],\n",
              "       [37.      ],\n",
              "       [32.5     ],\n",
              "       [32.      ],\n",
              "       [27.5     ],\n",
              "       [25.5     ],\n",
              "       [23.5     ],\n",
              "       [20.499998],\n",
              "       [18.5     ],\n",
              "       [18.      ],\n",
              "       [17.      ],\n",
              "       [16.      ],\n",
              "       [15.5     ],\n",
              "       [16.      ],\n",
              "       [16.      ],\n",
              "       [15.5     ],\n",
              "       [14.5     ],\n",
              "       [13.5     ],\n",
              "       [13.      ],\n",
              "       [15.      ],\n",
              "       [18.5     ],\n",
              "       [23.5     ],\n",
              "       [26.5     ],\n",
              "       [28.      ],\n",
              "       [29.      ],\n",
              "       [31.5     ],\n",
              "       [32.      ],\n",
              "       [33.      ],\n",
              "       [40.      ],\n",
              "       [45.      ],\n",
              "       [46.      ],\n",
              "       [45.      ],\n",
              "       [31.      ],\n",
              "       [28.      ],\n",
              "       [24.5     ],\n",
              "       [22.499998],\n",
              "       [21.499998],\n",
              "       [19.999998],\n",
              "       [18.999998],\n",
              "       [17.      ],\n",
              "       [16.5     ],\n",
              "       [15.5     ],\n",
              "       [15.      ],\n",
              "       [14.5     ],\n",
              "       [14.      ],\n",
              "       [13.5     ],\n",
              "       [14.      ],\n",
              "       [17.      ],\n",
              "       [20.999998],\n",
              "       [26.      ],\n",
              "       [28.5     ],\n",
              "       [30.5     ],\n",
              "       [32.      ],\n",
              "       [33.      ],\n",
              "       [34.      ],\n",
              "       [35.5     ],\n",
              "       [44.      ],\n",
              "       [47.5     ],\n",
              "       [49.5     ],\n",
              "       [35.5     ],\n",
              "       [31.5     ],\n",
              "       [29.5     ],\n",
              "       [27.      ],\n",
              "       [24.      ],\n",
              "       [23.      ],\n",
              "       [21.999998],\n",
              "       [20.499998],\n",
              "       [19.999998],\n",
              "       [18.999998],\n",
              "       [18.5     ],\n",
              "       [17.5     ],\n",
              "       [16.5     ],\n",
              "       [16.5     ],\n",
              "       [16.5     ],\n",
              "       [17.5     ],\n",
              "       [20.999998],\n",
              "       [25.5     ],\n",
              "       [28.      ],\n",
              "       [31.      ],\n",
              "       [32.      ],\n",
              "       [34.5     ],\n",
              "       [35.5     ],\n",
              "       [36.5     ],\n",
              "       [44.5     ],\n",
              "       [46.      ],\n",
              "       [50.      ],\n",
              "       [50.5     ],\n",
              "       [31.      ],\n",
              "       [29.      ],\n",
              "       [26.5     ],\n",
              "       [24.5     ],\n",
              "       [23.      ],\n",
              "       [21.999998],\n",
              "       [20.999998],\n",
              "       [20.499998],\n",
              "       [19.999998],\n",
              "       [19.499998],\n",
              "       [18.999998],\n",
              "       [18.5     ],\n",
              "       [17.5     ],\n",
              "       [17.5     ],\n",
              "       [17.5     ],\n",
              "       [17.5     ],\n",
              "       [19.499998],\n",
              "       [21.499998],\n",
              "       [25.      ],\n",
              "       [28.      ],\n",
              "       [30.5     ],\n",
              "       [32.5     ],\n",
              "       [33.5     ],\n",
              "       [35.5     ],\n",
              "       [41.5     ],\n",
              "       [45.5     ],\n",
              "       [44.5     ],\n",
              "       [40.      ],\n",
              "       [33.      ],\n",
              "       [30.      ],\n",
              "       [27.      ],\n",
              "       [26.      ],\n",
              "       [24.5     ],\n",
              "       [23.      ],\n",
              "       [21.999998],\n",
              "       [20.999998],\n",
              "       [19.999998],\n",
              "       [19.499998],\n",
              "       [18.999998],\n",
              "       [18.999998],\n",
              "       [18.999998],\n",
              "       [18.999998],\n",
              "       [18.      ],\n",
              "       [18.5     ],\n",
              "       [21.499998],\n",
              "       [22.499998],\n",
              "       [24.      ],\n",
              "       [26.      ],\n",
              "       [29.5     ],\n",
              "       [31.5     ],\n",
              "       [35.      ],\n",
              "       [32.5     ],\n",
              "       [32.5     ],\n",
              "       [35.      ],\n",
              "       [32.5     ],\n",
              "       [29.5     ],\n",
              "       [27.5     ],\n",
              "       [26.5     ],\n",
              "       [24.5     ],\n",
              "       [22.499998],\n",
              "       [19.499998],\n",
              "       [18.999998],\n",
              "       [18.      ],\n",
              "       [17.      ],\n",
              "       [16.5     ],\n",
              "       [16.5     ],\n",
              "       [16.5     ],\n",
              "       [16.5     ],\n",
              "       [16.      ],\n",
              "       [16.5     ],\n",
              "       [17.      ],\n",
              "       [16.5     ],\n",
              "       [17.      ],\n",
              "       [17.      ],\n",
              "       [17.5     ],\n",
              "       [18.5     ],\n",
              "       [18.5     ],\n",
              "       [19.499998],\n",
              "       [19.999998],\n",
              "       [20.499998],\n",
              "       [20.499998],\n",
              "       [21.499998],\n",
              "       [21.499998],\n",
              "       [22.499998],\n",
              "       [22.499998],\n",
              "       [23.      ],\n",
              "       [23.5     ],\n",
              "       [21.999998],\n",
              "       [20.499998],\n",
              "       [19.499998],\n",
              "       [18.999998],\n",
              "       [18.999998],\n",
              "       [18.      ],\n",
              "       [17.      ],\n",
              "       [16.      ],\n",
              "       [16.      ],\n",
              "       [15.5     ],\n",
              "       [15.      ],\n",
              "       [14.5     ],\n",
              "       [15.5     ],\n",
              "       [17.      ],\n",
              "       [18.999998],\n",
              "       [19.499998],\n",
              "       [21.999998],\n",
              "       [25.5     ],\n",
              "       [27.      ],\n",
              "       [30.      ],\n",
              "       [31.5     ],\n",
              "       [32.      ],\n",
              "       [33.5     ],\n",
              "       [40.5     ],\n",
              "       [33.5     ],\n",
              "       [41.      ],\n",
              "       [35.      ],\n",
              "       [31.      ],\n",
              "       [28.      ],\n",
              "       [26.5     ],\n",
              "       [23.      ],\n",
              "       [21.499998],\n",
              "       [20.999998],\n",
              "       [20.999998],\n",
              "       [19.999998],\n",
              "       [18.5     ],\n",
              "       [18.999998],\n",
              "       [18.999998],\n",
              "       [18.      ],\n",
              "       [17.5     ],\n",
              "       [17.      ],\n",
              "       [18.      ],\n",
              "       [20.499998],\n",
              "       [22.499998],\n",
              "       [27.      ],\n",
              "       [28.5     ],\n",
              "       [29.5     ],\n",
              "       [31.5     ],\n",
              "       [31.5     ],\n",
              "       [33.      ],\n",
              "       [33.      ],\n",
              "       [38.      ],\n",
              "       [39.5     ],\n",
              "       [34.5     ],\n",
              "       [35.5     ],\n",
              "       [29.5     ],\n",
              "       [27.5     ],\n",
              "       [26.      ],\n",
              "       [23.5     ],\n",
              "       [23.      ],\n",
              "       [19.999998],\n",
              "       [18.5     ],\n",
              "       [18.      ],\n",
              "       [17.      ],\n",
              "       [17.      ],\n",
              "       [16.5     ],\n",
              "       [15.5     ],\n",
              "       [15.5     ],\n",
              "       [15.5     ],\n",
              "       [15.      ],\n",
              "       [15.      ],\n",
              "       [16.      ],\n",
              "       [16.5     ],\n",
              "       [18.999998],\n",
              "       [21.999998],\n",
              "       [23.      ],\n",
              "       [23.      ],\n",
              "       [25.5     ],\n",
              "       [27.      ],\n",
              "       [27.5     ],\n",
              "       [30.      ],\n",
              "       [31.      ],\n",
              "       [30.5     ],\n",
              "       [34.5     ],\n",
              "       [28.5     ],\n",
              "       [27.      ],\n",
              "       [24.5     ],\n",
              "       [23.      ],\n",
              "       [20.999998],\n",
              "       [18.      ],\n",
              "       [17.      ],\n",
              "       [16.5     ],\n",
              "       [17.5     ],\n",
              "       [18.      ],\n",
              "       [18.      ],\n",
              "       [18.      ],\n",
              "       [18.      ],\n",
              "       [17.5     ],\n",
              "       [16.      ],\n",
              "       [15.5     ],\n",
              "       [14.5     ],\n",
              "       [17.5     ],\n",
              "       [21.999998],\n",
              "       [24.5     ],\n",
              "       [26.5     ],\n",
              "       [28.5     ],\n",
              "       [28.      ],\n",
              "       [29.5     ],\n",
              "       [31.5     ],\n",
              "       [31.5     ],\n",
              "       [31.5     ],\n",
              "       [39.      ],\n",
              "       [47.      ],\n",
              "       [49.      ],\n",
              "       [29.      ],\n",
              "       [25.5     ],\n",
              "       [24.      ],\n",
              "       [21.999998],\n",
              "       [20.499998],\n",
              "       [19.999998],\n",
              "       [18.999998],\n",
              "       [18.      ],\n",
              "       [17.5     ],\n",
              "       [17.      ],\n",
              "       [16.5     ],\n",
              "       [16.5     ],\n",
              "       [16.      ],\n",
              "       [15.5     ],\n",
              "       [15.5     ],\n",
              "       [15.      ],\n",
              "       [17.      ],\n",
              "       [21.999998],\n",
              "       [24.5     ],\n",
              "       [26.      ],\n",
              "       [29.      ],\n",
              "       [29.5     ],\n",
              "       [31.5     ],\n",
              "       [31.      ],\n",
              "       [32.5     ],\n",
              "       [33.5     ],\n",
              "       [42.5     ],\n",
              "       [42.5     ],\n",
              "       [43.5     ],\n",
              "       [47.5     ],\n",
              "       [32.      ],\n",
              "       [29.5     ],\n",
              "       [27.5     ],\n",
              "       [25.5     ],\n",
              "       [23.5     ],\n",
              "       [21.999998],\n",
              "       [21.499998],\n",
              "       [20.999998],\n",
              "       [19.999998],\n",
              "       [18.999998],\n",
              "       [18.      ],\n",
              "       [17.      ],\n",
              "       [17.      ],\n",
              "       [16.      ],\n",
              "       [16.      ],\n",
              "       [15.5     ],\n",
              "       [15.5     ],\n",
              "       [17.5     ],\n",
              "       [20.999998],\n",
              "       [25.5     ],\n",
              "       [28.5     ],\n",
              "       [31.      ],\n",
              "       [31.      ],\n",
              "       [32.5     ],\n",
              "       [33.5     ],\n",
              "       [34.5     ],\n",
              "       [41.      ],\n",
              "       [46.5     ],\n",
              "       [48.5     ],\n",
              "       [46.5     ],\n",
              "       [36.      ],\n",
              "       [30.      ],\n",
              "       [26.      ],\n",
              "       [24.5     ],\n",
              "       [23.5     ],\n",
              "       [22.499998],\n",
              "       [21.999998],\n",
              "       [21.499998],\n",
              "       [20.999998],\n",
              "       [20.499998],\n",
              "       [19.499998],\n",
              "       [18.999998],\n",
              "       [18.999998],\n",
              "       [18.999998],\n",
              "       [18.999998],\n",
              "       [20.499998],\n",
              "       [21.499998],\n",
              "       [23.5     ],\n",
              "       [24.5     ],\n",
              "       [28.      ],\n",
              "       [30.      ],\n",
              "       [31.      ],\n",
              "       [32.5     ],\n",
              "       [32.      ],\n",
              "       [31.      ],\n",
              "       [30.      ],\n",
              "       [28.5     ],\n",
              "       [27.      ],\n",
              "       [27.      ],\n",
              "       [26.5     ],\n",
              "       [24.5     ],\n",
              "       [21.999998],\n",
              "       [20.499998],\n",
              "       [19.499998],\n",
              "       [18.999998],\n",
              "       [18.5     ],\n",
              "       [18.      ],\n",
              "       [17.5     ],\n",
              "       [17.      ],\n",
              "       [16.5     ],\n",
              "       [16.5     ],\n",
              "       [16.      ],\n",
              "       [16.      ],\n",
              "       [18.      ],\n",
              "       [21.499998],\n",
              "       [25.      ],\n",
              "       [28.      ],\n",
              "       [30.      ],\n",
              "       [31.5     ],\n",
              "       [31.5     ],\n",
              "       [33.      ],\n",
              "       [37.5     ],\n",
              "       [39.5     ],\n",
              "       [45.      ],\n",
              "       [46.      ],\n",
              "       [33.5     ],\n",
              "       [28.      ],\n",
              "       [24.5     ],\n",
              "       [23.      ],\n",
              "       [21.499998],\n",
              "       [20.999998],\n",
              "       [20.499998],\n",
              "       [18.5     ],\n",
              "       [18.5     ],\n",
              "       [17.5     ],\n",
              "       [17.      ],\n",
              "       [16.      ],\n",
              "       [16.      ],\n",
              "       [15.5     ],\n",
              "       [15.      ],\n",
              "       [15.      ],\n",
              "       [22.499998],\n",
              "       [25.      ],\n",
              "       [27.      ],\n",
              "       [29.5     ],\n",
              "       [26.5     ],\n",
              "       [30.5     ],\n",
              "       [32.      ],\n",
              "       [32.5     ],\n",
              "       [40.5     ],\n",
              "       [47.5     ],\n",
              "       [41.      ],\n",
              "       [34.5     ],\n",
              "       [30.5     ],\n",
              "       [28.      ],\n",
              "       [26.      ],\n",
              "       [24.5     ],\n",
              "       [23.      ],\n",
              "       [21.999998],\n",
              "       [20.999998],\n",
              "       [20.499998],\n",
              "       [19.499998],\n",
              "       [19.499998],\n",
              "       [18.999998],\n",
              "       [18.999998],\n",
              "       [18.      ],\n",
              "       [17.5     ],\n",
              "       [17.5     ],\n",
              "       [17.5     ],\n",
              "       [20.499998],\n",
              "       [21.499998],\n",
              "       [24.5     ],\n",
              "       [27.      ],\n",
              "       [28.      ],\n",
              "       [28.5     ],\n",
              "       [29.      ],\n",
              "       [31.      ],\n",
              "       [32.      ],\n",
              "       [36.5     ],\n",
              "       [35.5     ],\n",
              "       [42.5     ],\n",
              "       [38.      ],\n",
              "       [31.5     ],\n",
              "       [28.      ],\n",
              "       [26.      ],\n",
              "       [23.5     ],\n",
              "       [21.999998],\n",
              "       [20.499998],\n",
              "       [19.499998],\n",
              "       [18.999998],\n",
              "       [18.      ],\n",
              "       [17.5     ],\n",
              "       [17.5     ],\n",
              "       [17.      ],\n",
              "       [17.      ],\n",
              "       [16.5     ],\n",
              "       [17.      ],\n",
              "       [18.999998],\n",
              "       [20.999998],\n",
              "       [23.5     ],\n",
              "       [25.      ],\n",
              "       [27.5     ],\n",
              "       [31.5     ],\n",
              "       [32.5     ],\n",
              "       [32.      ],\n",
              "       [34.      ],\n",
              "       [32.      ],\n",
              "       [28.5     ],\n",
              "       [26.      ],\n",
              "       [24.5     ],\n",
              "       [25.5     ],\n",
              "       [26.5     ],\n",
              "       [25.5     ],\n",
              "       [22.499998],\n",
              "       [20.999998],\n",
              "       [20.999998],\n",
              "       [20.499998],\n",
              "       [20.499998],\n",
              "       [19.999998],\n",
              "       [19.999998],\n",
              "       [19.499998],\n",
              "       [18.999998],\n",
              "       [19.499998],\n",
              "       [18.999998],\n",
              "       [19.499998],\n",
              "       [19.499998],\n",
              "       [19.999998],\n",
              "       [20.999998],\n",
              "       [20.999998],\n",
              "       [21.499998],\n",
              "       [23.      ],\n",
              "       [23.      ],\n",
              "       [25.5     ],\n",
              "       [30.      ],\n",
              "       [31.      ],\n",
              "       [32.5     ],\n",
              "       [35.5     ],\n",
              "       [39.5     ],\n",
              "       [35.5     ],\n",
              "       [36.5     ],\n",
              "       [38.      ],\n",
              "       [32.      ],\n",
              "       [29.5     ],\n",
              "       [28.      ],\n",
              "       [26.      ],\n",
              "       [23.5     ],\n",
              "       [21.999998],\n",
              "       [20.999998],\n",
              "       [20.999998]], dtype=float32)"
            ]
          },
          "metadata": {
            "tags": []
          },
          "execution_count": 349
        }
      ]
    },
    {
      "cell_type": "code",
      "metadata": {
        "id": "yOIDSFbfs-kY",
        "colab_type": "code",
        "colab": {
          "base_uri": "https://localhost:8080/",
          "height": 34
        },
        "outputId": "016234dd-4a5a-45c0-fefc-a03ce159c7d5"
      },
      "source": [
        ""
      ],
      "execution_count": null,
      "outputs": [
        {
          "output_type": "execute_result",
          "data": {
            "text/plain": [
              "53.0"
            ]
          },
          "metadata": {
            "tags": []
          },
          "execution_count": 352
        }
      ]
    },
    {
      "cell_type": "code",
      "metadata": {
        "id": "RbkCJbTzrgpL",
        "colab_type": "code",
        "colab": {
          "base_uri": "https://localhost:8080/",
          "height": 51
        },
        "outputId": "680dee10-551b-4517-8711-1dd15536a168"
      },
      "source": [
        "pred"
      ],
      "execution_count": null,
      "outputs": [
        {
          "output_type": "execute_result",
          "data": {
            "text/plain": [
              "array([8.121327, 8.101749, 8.175953, ..., 8.679057, 8.654987, 8.62977 ],\n",
              "      dtype=float32)"
            ]
          },
          "metadata": {
            "tags": []
          },
          "execution_count": 332
        }
      ]
    },
    {
      "cell_type": "code",
      "metadata": {
        "id": "m6iEPjKFibKb",
        "colab_type": "code",
        "colab": {}
      },
      "source": [
        "submission_data['Y18']=pred"
      ],
      "execution_count": null,
      "outputs": []
    },
    {
      "cell_type": "code",
      "metadata": {
        "id": "5gfcw1HXibEl",
        "colab_type": "code",
        "colab": {
          "base_uri": "https://localhost:8080/",
          "height": 411
        },
        "outputId": "4250fad4-e0e2-46c0-9c35-2bb75248b0b5"
      },
      "source": [
        "submission_data"
      ],
      "execution_count": null,
      "outputs": [
        {
          "output_type": "execute_result",
          "data": {
            "text/html": [
              "<div>\n",
              "<style scoped>\n",
              "    .dataframe tbody tr th:only-of-type {\n",
              "        vertical-align: middle;\n",
              "    }\n",
              "\n",
              "    .dataframe tbody tr th {\n",
              "        vertical-align: top;\n",
              "    }\n",
              "\n",
              "    .dataframe thead th {\n",
              "        text-align: right;\n",
              "    }\n",
              "</style>\n",
              "<table border=\"1\" class=\"dataframe\">\n",
              "  <thead>\n",
              "    <tr style=\"text-align: right;\">\n",
              "      <th></th>\n",
              "      <th>id</th>\n",
              "      <th>Y18</th>\n",
              "    </tr>\n",
              "  </thead>\n",
              "  <tbody>\n",
              "    <tr>\n",
              "      <th>0</th>\n",
              "      <td>4752</td>\n",
              "      <td>8.121327</td>\n",
              "    </tr>\n",
              "    <tr>\n",
              "      <th>1</th>\n",
              "      <td>4753</td>\n",
              "      <td>8.101749</td>\n",
              "    </tr>\n",
              "    <tr>\n",
              "      <th>2</th>\n",
              "      <td>4754</td>\n",
              "      <td>8.175953</td>\n",
              "    </tr>\n",
              "    <tr>\n",
              "      <th>3</th>\n",
              "      <td>4755</td>\n",
              "      <td>8.100624</td>\n",
              "    </tr>\n",
              "    <tr>\n",
              "      <th>4</th>\n",
              "      <td>4756</td>\n",
              "      <td>8.126120</td>\n",
              "    </tr>\n",
              "    <tr>\n",
              "      <th>...</th>\n",
              "      <td>...</td>\n",
              "      <td>...</td>\n",
              "    </tr>\n",
              "    <tr>\n",
              "      <th>11515</th>\n",
              "      <td>16267</td>\n",
              "      <td>8.616138</td>\n",
              "    </tr>\n",
              "    <tr>\n",
              "      <th>11516</th>\n",
              "      <td>16268</td>\n",
              "      <td>8.666847</td>\n",
              "    </tr>\n",
              "    <tr>\n",
              "      <th>11517</th>\n",
              "      <td>16269</td>\n",
              "      <td>8.679057</td>\n",
              "    </tr>\n",
              "    <tr>\n",
              "      <th>11518</th>\n",
              "      <td>16270</td>\n",
              "      <td>8.654987</td>\n",
              "    </tr>\n",
              "    <tr>\n",
              "      <th>11519</th>\n",
              "      <td>16271</td>\n",
              "      <td>8.629770</td>\n",
              "    </tr>\n",
              "  </tbody>\n",
              "</table>\n",
              "<p>11520 rows × 2 columns</p>\n",
              "</div>"
            ],
            "text/plain": [
              "          id       Y18\n",
              "0       4752  8.121327\n",
              "1       4753  8.101749\n",
              "2       4754  8.175953\n",
              "3       4755  8.100624\n",
              "4       4756  8.126120\n",
              "...      ...       ...\n",
              "11515  16267  8.616138\n",
              "11516  16268  8.666847\n",
              "11517  16269  8.679057\n",
              "11518  16270  8.654987\n",
              "11519  16271  8.629770\n",
              "\n",
              "[11520 rows x 2 columns]"
            ]
          },
          "metadata": {
            "tags": []
          },
          "execution_count": 325
        }
      ]
    },
    {
      "cell_type": "code",
      "metadata": {
        "id": "pXGIlXe3SBnO",
        "colab_type": "code",
        "colab": {
          "base_uri": "https://localhost:8080/",
          "height": 286
        },
        "outputId": "e2f5f7c9-7654-49cc-8aca-a821187cfd2e"
      },
      "source": [
        "plt.plot(pred)"
      ],
      "execution_count": null,
      "outputs": [
        {
          "output_type": "execute_result",
          "data": {
            "text/plain": [
              "[<matplotlib.lines.Line2D at 0x7f8eb7a262e8>]"
            ]
          },
          "metadata": {
            "tags": []
          },
          "execution_count": 333
        },
        {
          "output_type": "display_data",
          "data": {
            "image/png": "[encoded data removed]",
            "text/plain": [
              "<Figure size 432x288 with 1 Axes>"
            ]
          },
          "metadata": {
            "tags": [],
            "needs_background": "light"
          }
        }
      ]
    },
    {
      "cell_type": "code",
      "metadata": {
        "id": "fADM-DaTrpFq",
        "colab_type": "code",
        "colab": {
          "base_uri": "https://localhost:8080/",
          "height": 136
        },
        "outputId": "f2a52b45-8234-4b86-b2e1-24d1bc2c49d3"
      },
      "source": [
        ""
      ],
      "execution_count": null,
      "outputs": [
        {
          "output_type": "execute_result",
          "data": {
            "text/plain": [
              "array([[8.121327],\n",
              "       [8.101749],\n",
              "       [8.175953],\n",
              "       ...,\n",
              "       [8.679057],\n",
              "       [8.654987],\n",
              "       [8.62977 ]], dtype=float32)"
            ]
          },
          "metadata": {
            "tags": []
          },
          "execution_count": 340
        }
      ]
    },
    {
      "cell_type": "code",
      "metadata": {
        "id": "M0H5TvpSr6fB",
        "colab_type": "code",
        "colab": {
          "base_uri": "https://localhost:8080/",
          "height": 34
        },
        "outputId": "c570058b-91ce-4a75-e92e-17701eac07a3"
      },
      "source": [
        "train_label"
      ],
      "execution_count": null,
      "outputs": [
        {
          "output_type": "execute_result",
          "data": {
            "text/plain": [
              "array([10.5, 10. , 10. , ..., 21. , 21. , 20.5], dtype=float32)"
            ]
          },
          "metadata": {
            "tags": []
          },
          "execution_count": 341
        }
      ]
    },
    {
      "cell_type": "code",
      "metadata": {
        "id": "RRdzMqKar6b5",
        "colab_type": "code",
        "colab": {}
      },
      "source": [
        "zz= MinMaxScaler()\n",
        "zzv=zz.fit_transform(train_label.reshape(-1,1))"
      ],
      "execution_count": null,
      "outputs": []
    },
    {
      "cell_type": "code",
      "metadata": {
        "id": "p5s3Mdjbr6Y-",
        "colab_type": "code",
        "colab": {
          "base_uri": "https://localhost:8080/",
          "height": 136
        },
        "outputId": "52785c1b-cae4-43f9-ff80-a7b014229d83"
      },
      "source": [
        "zzv"
      ],
      "execution_count": null,
      "outputs": [
        {
          "output_type": "execute_result",
          "data": {
            "text/plain": [
              "array([[0.06593406],\n",
              "       [0.05494505],\n",
              "       [0.05494505],\n",
              "       ...,\n",
              "       [0.29670328],\n",
              "       [0.29670328],\n",
              "       [0.28571427]], dtype=float32)"
            ]
          },
          "metadata": {
            "tags": []
          },
          "execution_count": 347
        }
      ]
    },
    {
      "cell_type": "code",
      "metadata": {
        "id": "wcQZ7ug2sZ2Q",
        "colab_type": "code",
        "colab": {
          "base_uri": "https://localhost:8080/",
          "height": 136
        },
        "outputId": "35c1589b-a7af-426a-e981-9371f4f0507e"
      },
      "source": [
        "zz.inverse_transform(zzv)"
      ],
      "execution_count": null,
      "outputs": [
        {
          "output_type": "execute_result",
          "data": {
            "text/plain": [
              "array([[10.5     ],\n",
              "       [10.      ],\n",
              "       [10.      ],\n",
              "       ...,\n",
              "       [20.999998],\n",
              "       [20.999998],\n",
              "       [20.499998]], dtype=float32)"
            ]
          },
          "metadata": {
            "tags": []
          },
          "execution_count": 348
        }
      ]
    },
    {
      "cell_type": "code",
      "metadata": {
        "id": "SVEZnTjDsZzn",
        "colab_type": "code",
        "colab": {}
      },
      "source": [
        ""
      ],
      "execution_count": null,
      "outputs": []
    },
    {
      "cell_type": "code",
      "metadata": {
        "id": "yc5MMRApsZwh",
        "colab_type": "code",
        "colab": {}
      },
      "source": [
        ""
      ],
      "execution_count": null,
      "outputs": []
    }
  ]
}